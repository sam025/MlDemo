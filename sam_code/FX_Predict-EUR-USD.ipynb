{
 "cells": [
  {
   "cell_type": "code",
   "execution_count": 47,
   "metadata": {},
   "outputs": [],
   "source": [
    "import pandas as pd"
   ]
  },
  {
   "cell_type": "code",
   "execution_count": 48,
   "metadata": {},
   "outputs": [],
   "source": [
    "# Load fx data\n",
    "df = pd.read_csv('C:/Users/Shree/PycharmProjects/FxPrediction/EUR_USD Historical Data.csv')"
   ]
  },
  {
   "cell_type": "code",
   "execution_count": 49,
   "metadata": {},
   "outputs": [
    {
     "name": "stdout",
     "output_type": "stream",
     "text": [
      "Date        1065\n",
      "Price       1065\n",
      "Open        1065\n",
      "High        1065\n",
      "Low         1065\n",
      "Change %    1065\n",
      "dtype: int64\n"
     ]
    }
   ],
   "source": [
    "print(df.count())"
   ]
  },
  {
   "cell_type": "code",
   "execution_count": 50,
   "metadata": {},
   "outputs": [
    {
     "data": {
      "text/html": [
       "<div>\n",
       "<style scoped>\n",
       "    .dataframe tbody tr th:only-of-type {\n",
       "        vertical-align: middle;\n",
       "    }\n",
       "\n",
       "    .dataframe tbody tr th {\n",
       "        vertical-align: top;\n",
       "    }\n",
       "\n",
       "    .dataframe thead th {\n",
       "        text-align: right;\n",
       "    }\n",
       "</style>\n",
       "<table border=\"1\" class=\"dataframe\">\n",
       "  <thead>\n",
       "    <tr style=\"text-align: right;\">\n",
       "      <th></th>\n",
       "      <th>Date</th>\n",
       "      <th>Price</th>\n",
       "      <th>Open</th>\n",
       "      <th>High</th>\n",
       "      <th>Low</th>\n",
       "      <th>Change %</th>\n",
       "    </tr>\n",
       "  </thead>\n",
       "  <tbody>\n",
       "    <tr>\n",
       "      <th>0</th>\n",
       "      <td>May 24, 2019</td>\n",
       "      <td>1.1204</td>\n",
       "      <td>1.1183</td>\n",
       "      <td>1.1215</td>\n",
       "      <td>1.1175</td>\n",
       "      <td>0.21%</td>\n",
       "    </tr>\n",
       "    <tr>\n",
       "      <th>1</th>\n",
       "      <td>May 23, 2019</td>\n",
       "      <td>1.1180</td>\n",
       "      <td>1.1150</td>\n",
       "      <td>1.1187</td>\n",
       "      <td>1.1106</td>\n",
       "      <td>0.24%</td>\n",
       "    </tr>\n",
       "    <tr>\n",
       "      <th>2</th>\n",
       "      <td>May 22, 2019</td>\n",
       "      <td>1.1153</td>\n",
       "      <td>1.1166</td>\n",
       "      <td>1.1180</td>\n",
       "      <td>1.1145</td>\n",
       "      <td>-0.06%</td>\n",
       "    </tr>\n",
       "    <tr>\n",
       "      <th>3</th>\n",
       "      <td>May 21, 2019</td>\n",
       "      <td>1.1160</td>\n",
       "      <td>1.1171</td>\n",
       "      <td>1.1189</td>\n",
       "      <td>1.1142</td>\n",
       "      <td>-0.10%</td>\n",
       "    </tr>\n",
       "    <tr>\n",
       "      <th>4</th>\n",
       "      <td>May 20, 2019</td>\n",
       "      <td>1.1171</td>\n",
       "      <td>1.1158</td>\n",
       "      <td>1.1177</td>\n",
       "      <td>1.1148</td>\n",
       "      <td>0.12%</td>\n",
       "    </tr>\n",
       "  </tbody>\n",
       "</table>\n",
       "</div>"
      ],
      "text/plain": [
       "           Date   Price    Open    High     Low Change %\n",
       "0  May 24, 2019  1.1204  1.1183  1.1215  1.1175    0.21%\n",
       "1  May 23, 2019  1.1180  1.1150  1.1187  1.1106    0.24%\n",
       "2  May 22, 2019  1.1153  1.1166  1.1180  1.1145   -0.06%\n",
       "3  May 21, 2019  1.1160  1.1171  1.1189  1.1142   -0.10%\n",
       "4  May 20, 2019  1.1171  1.1158  1.1177  1.1148    0.12%"
      ]
     },
     "metadata": {},
     "output_type": "display_data"
    }
   ],
   "source": [
    "display(df.head())"
   ]
  },
  {
   "cell_type": "code",
   "execution_count": 51,
   "metadata": {},
   "outputs": [
    {
     "data": {
      "text/plain": [
       "Date         object\n",
       "Price       float64\n",
       "Open        float64\n",
       "High        float64\n",
       "Low         float64\n",
       "Change %     object\n",
       "dtype: object"
      ]
     },
     "execution_count": 51,
     "metadata": {},
     "output_type": "execute_result"
    }
   ],
   "source": [
    "df.dtypes"
   ]
  },
  {
   "cell_type": "code",
   "execution_count": 53,
   "metadata": {},
   "outputs": [],
   "source": [
    "grouped = df.groupby(df.Price)"
   ]
  },
  {
   "cell_type": "code",
   "execution_count": 54,
   "metadata": {},
   "outputs": [
    {
     "data": {
      "text/plain": [
       "<pandas.core.groupby.generic.DataFrameGroupBy object at 0x0000000004EC3550>"
      ]
     },
     "execution_count": 54,
     "metadata": {},
     "output_type": "execute_result"
    }
   ],
   "source": [
    "grouped"
   ]
  },
  {
   "cell_type": "code",
   "execution_count": 102,
   "metadata": {},
   "outputs": [
    {
     "data": {
      "text/plain": [
       "0       0.21\n",
       "1       0.24\n",
       "2      -0.06\n",
       "3      -0.10\n",
       "4       0.12\n",
       "5      -0.14\n",
       "6      -0.25\n",
       "7      -0.02\n",
       "8      -0.18\n",
       "9      -0.10\n",
       "10      0.12\n",
       "11      0.27\n",
       "12      0.01\n",
       "13     -0.08\n",
       "14     -0.02\n",
       "15      0.21\n",
       "16     -0.15\n",
       "17     -0.19\n",
       "18      0.28\n",
       "19      0.33\n",
       "20      0.15\n",
       "21     -0.20\n",
       "22     -0.65\n",
       "23     -0.28\n",
       "24      0.09\n",
       "25      0.15\n",
       "26     -0.58\n",
       "27      0.14\n",
       "28     -0.25\n",
       "29      0.06\n",
       "        ... \n",
       "1035   -1.12\n",
       "1036   -0.32\n",
       "1037    1.08\n",
       "1038    2.08\n",
       "1039   -0.55\n",
       "1040    0.36\n",
       "1041    0.40\n",
       "1042    0.29\n",
       "1043   -0.96\n",
       "1044   -0.36\n",
       "1045   -0.85\n",
       "1046    0.18\n",
       "1047   -0.50\n",
       "1048   -1.47\n",
       "1049   -1.20\n",
       "1050    0.37\n",
       "1051    0.47\n",
       "1052    1.28\n",
       "1053    0.53\n",
       "1054   -0.44\n",
       "1055   -0.56\n",
       "1056   -0.76\n",
       "1057    1.49\n",
       "1058    0.36\n",
       "1059   -0.50\n",
       "1060   -0.20\n",
       "1061    0.84\n",
       "1062    1.38\n",
       "1063    0.85\n",
       "1064    0.13\n",
       "Name: Change %, Length: 1065, dtype: float64"
      ]
     },
     "execution_count": 102,
     "metadata": {},
     "output_type": "execute_result"
    }
   ],
   "source": [
    "df['Change %'].str.replace('%', '').astype('float')"
   ]
  },
  {
   "cell_type": "code",
   "execution_count": 105,
   "metadata": {},
   "outputs": [],
   "source": [
    "def wavg(group):\n",
    "    d = df['Price']\n",
    "    w = df['Change %'].str.replace('%', '').astype('float')\n",
    "    return (d * w).sum() / w.sum()"
   ]
  },
  {
   "cell_type": "code",
   "execution_count": null,
   "metadata": {},
   "outputs": [],
   "source": []
  },
  {
   "cell_type": "code",
   "execution_count": 106,
   "metadata": {},
   "outputs": [
    {
     "data": {
      "text/plain": [
       "Price\n",
       "1.0387    1.472614\n",
       "1.0402    1.472614\n",
       "1.0406    1.472614\n",
       "1.0412    1.472614\n",
       "1.0414    1.472614\n",
       "1.0425    1.472614\n",
       "1.0437    1.472614\n",
       "1.0451    1.472614\n",
       "1.0456    1.472614\n",
       "1.0457    1.472614\n",
       "1.0459    1.472614\n",
       "1.0488    1.472614\n",
       "1.0492    1.472614\n",
       "1.0507    1.472614\n",
       "1.0516    1.472614\n",
       "1.0533    1.472614\n",
       "1.0536    1.472614\n",
       "1.0537    1.472614\n",
       "1.0541    1.472614\n",
       "1.0548    1.472614\n",
       "1.0554    1.472614\n",
       "1.0556    1.472614\n",
       "1.0559    1.472614\n",
       "1.0562    1.472614\n",
       "1.0563    1.472614\n",
       "1.0564    1.472614\n",
       "1.0566    1.472614\n",
       "1.0574    1.472614\n",
       "1.0577    1.472614\n",
       "1.0581    1.472614\n",
       "            ...   \n",
       "1.2331    1.472614\n",
       "1.2334    1.472614\n",
       "1.2335    1.472614\n",
       "1.2336    1.472614\n",
       "1.2338    1.472614\n",
       "1.2346    1.472614\n",
       "1.2352    1.472614\n",
       "1.2353    1.472614\n",
       "1.2356    1.472614\n",
       "1.2367    1.472614\n",
       "1.2368    1.472614\n",
       "1.2370    1.472614\n",
       "1.2373    1.472614\n",
       "1.2377    1.472614\n",
       "1.2380    1.472614\n",
       "1.2383    1.472614\n",
       "1.2390    1.472614\n",
       "1.2396    1.472614\n",
       "1.2402    1.472614\n",
       "1.2403    1.472614\n",
       "1.2404    1.472614\n",
       "1.2406    1.472614\n",
       "1.2408    1.472614\n",
       "1.2413    1.472614\n",
       "1.2421    1.472614\n",
       "1.2443    1.472614\n",
       "1.2450    1.472614\n",
       "1.2462    1.472614\n",
       "1.2506    1.472614\n",
       "1.2510    1.472614\n",
       "Length: 768, dtype: float64"
      ]
     },
     "execution_count": 106,
     "metadata": {},
     "output_type": "execute_result"
    }
   ],
   "source": [
    "grouped.apply(wavg)"
   ]
  },
  {
   "cell_type": "code",
   "execution_count": 107,
   "metadata": {},
   "outputs": [],
   "source": [
    "import matplotlib.pylab as plt"
   ]
  },
  {
   "cell_type": "code",
   "execution_count": 108,
   "metadata": {},
   "outputs": [
    {
     "data": {
      "text/plain": [
       "[<matplotlib.lines.Line2D at 0x9652358>]"
      ]
     },
     "execution_count": 108,
     "metadata": {},
     "output_type": "execute_result"
    },
    {
     "data": {
      "image/png": "[encoded data removed]",
      "text/plain": [
       "<Figure size 432x288 with 1 Axes>"
      ]
     },
     "metadata": {
      "needs_background": "light"
     },
     "output_type": "display_data"
    }
   ],
   "source": [
    "plt.plot(df.Price)"
   ]
  },
  {
   "cell_type": "code",
   "execution_count": null,
   "metadata": {},
   "outputs": [],
   "source": []
  }
 ],
 "metadata": {
  "anaconda-cloud": {},
  "kernelspec": {
   "display_name": "Python 3",
   "language": "python",
   "name": "python3"
  },
  "language_info": {
   "codemirror_mode": {
    "name": "ipython",
    "version": 3
   },
   "file_extension": ".py",
   "mimetype": "text/x-python",
   "name": "python",
   "nbconvert_exporter": "python",
   "pygments_lexer": "ipython3",
   "version": "3.7.3"
  }
 },
 "nbformat": 4,
 "nbformat_minor": 1
}
