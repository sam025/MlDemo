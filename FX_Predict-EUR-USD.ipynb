{
 "cells": [
  {
   "cell_type": "code",
   "execution_count": 3,
   "metadata": {
    "collapsed": false
   },
   "outputs": [],
   "source": [
    "import pandas as pd"
   ]
  },
  {
   "cell_type": "code",
   "execution_count": 7,
   "metadata": {
    "collapsed": true
   },
   "outputs": [],
   "source": [
    "# Load fx data\n",
    "df = pd.read_csv('C:/My_Docs/Aegis/Forex_Prediction_ML/my_FX-predict/EUR_USD Historical Data.csv')"
   ]
  },
  {
   "cell_type": "code",
   "execution_count": 6,
   "metadata": {
    "collapsed": false
   },
   "outputs": [
    {
     "name": "stdout",
     "output_type": "stream",
     "text": [
      "Date        1065\n",
      "Price       1065\n",
      "Open        1065\n",
      "High        1065\n",
      "Low         1065\n",
      "Change %    1065\n",
      "dtype: int64\n"
     ]
    }
   ],
   "source": [
    "print(df.count())"
   ]
  },
  {
   "cell_type": "code",
   "execution_count": 9,
   "metadata": {
    "collapsed": false
   },
   "outputs": [
    {
     "data": {
      "text/html": [
       "<div>\n",
       "<style scoped>\n",
       "    .dataframe tbody tr th:only-of-type {\n",
       "        vertical-align: middle;\n",
       "    }\n",
       "\n",
       "    .dataframe tbody tr th {\n",
       "        vertical-align: top;\n",
       "    }\n",
       "\n",
       "    .dataframe thead th {\n",
       "        text-align: right;\n",
       "    }\n",
       "</style>\n",
       "<table border=\"1\" class=\"dataframe\">\n",
       "  <thead>\n",
       "    <tr style=\"text-align: right;\">\n",
       "      <th></th>\n",
       "      <th>Date</th>\n",
       "      <th>Price</th>\n",
       "      <th>Open</th>\n",
       "      <th>High</th>\n",
       "      <th>Low</th>\n",
       "      <th>Change %</th>\n",
       "    </tr>\n",
       "  </thead>\n",
       "  <tbody>\n",
       "    <tr>\n",
       "      <th>0</th>\n",
       "      <td>May 24, 2019</td>\n",
       "      <td>1.1204</td>\n",
       "      <td>1.1183</td>\n",
       "      <td>1.1215</td>\n",
       "      <td>1.1175</td>\n",
       "      <td>0.21%</td>\n",
       "    </tr>\n",
       "    <tr>\n",
       "      <th>1</th>\n",
       "      <td>May 23, 2019</td>\n",
       "      <td>1.1180</td>\n",
       "      <td>1.1150</td>\n",
       "      <td>1.1187</td>\n",
       "      <td>1.1106</td>\n",
       "      <td>0.24%</td>\n",
       "    </tr>\n",
       "    <tr>\n",
       "      <th>2</th>\n",
       "      <td>May 22, 2019</td>\n",
       "      <td>1.1153</td>\n",
       "      <td>1.1166</td>\n",
       "      <td>1.1180</td>\n",
       "      <td>1.1145</td>\n",
       "      <td>-0.06%</td>\n",
       "    </tr>\n",
       "    <tr>\n",
       "      <th>3</th>\n",
       "      <td>May 21, 2019</td>\n",
       "      <td>1.1160</td>\n",
       "      <td>1.1171</td>\n",
       "      <td>1.1189</td>\n",
       "      <td>1.1142</td>\n",
       "      <td>-0.10%</td>\n",
       "    </tr>\n",
       "    <tr>\n",
       "      <th>4</th>\n",
       "      <td>May 20, 2019</td>\n",
       "      <td>1.1171</td>\n",
       "      <td>1.1158</td>\n",
       "      <td>1.1177</td>\n",
       "      <td>1.1148</td>\n",
       "      <td>0.12%</td>\n",
       "    </tr>\n",
       "  </tbody>\n",
       "</table>\n",
       "</div>"
      ],
      "text/plain": [
       "           Date   Price    Open    High     Low Change %\n",
       "0  May 24, 2019  1.1204  1.1183  1.1215  1.1175    0.21%\n",
       "1  May 23, 2019  1.1180  1.1150  1.1187  1.1106    0.24%\n",
       "2  May 22, 2019  1.1153  1.1166  1.1180  1.1145   -0.06%\n",
       "3  May 21, 2019  1.1160  1.1171  1.1189  1.1142   -0.10%\n",
       "4  May 20, 2019  1.1171  1.1158  1.1177  1.1148    0.12%"
      ]
     },
     "metadata": {},
     "output_type": "display_data"
    }
   ],
   "source": [
    "display(df.head())"
   ]
  },
  {
   "cell_type": "code",
   "execution_count": null,
   "metadata": {
    "collapsed": true
   },
   "outputs": [],
   "source": []
  }
 ],
 "metadata": {
  "anaconda-cloud": {},
  "kernelspec": {
   "display_name": "Python [default]",
   "language": "python",
   "name": "python3"
  },
  "language_info": {
   "codemirror_mode": {
    "name": "ipython",
    "version": 3
   },
   "file_extension": ".py",
   "mimetype": "text/x-python",
   "name": "python",
   "nbconvert_exporter": "python",
   "pygments_lexer": "ipython3",
   "version": "3.5.2"
  }
 },
 "nbformat": 4,
 "nbformat_minor": 1
}
